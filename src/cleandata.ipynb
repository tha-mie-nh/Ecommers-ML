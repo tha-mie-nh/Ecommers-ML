{
 "cells": [
  {
   "cell_type": "code",
   "execution_count": 1,
   "metadata": {},
   "outputs": [],
   "source": [
    "# clean file testdata de phan tich du lieu\n",
    "import pandas as pd\n",
    "import numpy as np\n",
    "import matplotlib.pyplot as plt\n",
    "import seaborn as sns\n",
    "import os\n",
    "import re\n",
    "import datetime as dt\n"
   ]
  },
  {
   "cell_type": "code",
   "execution_count": 2,
   "metadata": {},
   "outputs": [
    {
     "name": "stdout",
     "output_type": "stream",
     "text": [
      "<class 'pandas.core.frame.DataFrame'>\n",
      "RangeIndex: 15000 entries, 0 to 14999\n",
      "Data columns (total 29 columns):\n",
      " #   Column              Non-Null Count  Dtype  \n",
      "---  ------              --------------  -----  \n",
      " 0   index               15000 non-null  int64  \n",
      " 1   Order ID            15000 non-null  object \n",
      " 2   Date                15000 non-null  object \n",
      " 3   Status              15000 non-null  object \n",
      " 4   Fulfilment          15000 non-null  object \n",
      " 5   Sales Channel       15000 non-null  object \n",
      " 6   ship-service-level  15000 non-null  object \n",
      " 7   Style               15000 non-null  object \n",
      " 8   SKU                 6120 non-null   object \n",
      " 9   Category            6030 non-null   object \n",
      " 10  Size                15000 non-null  object \n",
      " 11  ASIN                15000 non-null  object \n",
      " 12  Courier Status      5694 non-null   object \n",
      " 13  Qty                 15000 non-null  int64  \n",
      " 14  currency            5672 non-null   object \n",
      " 15  Amount              5685 non-null   float64\n",
      " 16  ship-city           6055 non-null   object \n",
      " 17  ship-state          5910 non-null   object \n",
      " 18  ship-postal-code    14995 non-null  float64\n",
      " 19  ship-country        5995 non-null   object \n",
      " 20  promotion-ids       3875 non-null   object \n",
      " 21  B2B                 15000 non-null  bool   \n",
      " 22  fulfilled-by        2228 non-null   object \n",
      " 23  Customer ID         15000 non-null  object \n",
      " 24  Payment Method      15000 non-null  object \n",
      " 25  Return Status       15000 non-null  object \n",
      " 26  Product Rating      15000 non-null  int64  \n",
      " 27  Customer Segment    15000 non-null  object \n",
      " 28  Platform            15000 non-null  object \n",
      "dtypes: bool(1), float64(2), int64(3), object(23)\n",
      "memory usage: 3.2+ MB\n"
     ]
    }
   ],
   "source": [
    "\n",
    "file_path = r'C:\\Users\\Admin\\Desktop\\E_commerce_proj\\data\\datainput\\Amazon_Sale_Report_Enhanced.csv' \n",
    "raw_df = pd.read_csv(file_path, encoding='latin1')\n",
    "raw_df.head(5)\n",
    "raw_df.info()\n",
    "\n"
   ]
  },
  {
   "cell_type": "markdown",
   "metadata": {},
   "source": [
    "Tất cả các giá trị lỗi dạng \"####\", \"###@\", \"NaN\" chuỗi, v.v. đã được chuyển thành NaN thực sự (giá trị thiếu) trong DataFrame"
   ]
  },
  {
   "cell_type": "code",
   "execution_count": 3,
   "metadata": {},
   "outputs": [],
   "source": [
    "import pandas as pd\n",
    "import numpy as np\n",
    "\n",
    "# Danh sách các giá trị lỗi thường gặp cần chuẩn hóa\n",
    "weird_values = ['####', '###', '##', '#', '###@', 'NaN', 'NULL', '', '##9&', '#8#$', '#2##']\n",
    "\n",
    "# Thay thế tất cả các giá trị lỗi này trong toàn bộ DataFrame bằng np.nan\n",
    "df_cleaned = raw_df.replace(to_replace=weird_values, value=np.nan)\n"
   ]
  },
  {
   "cell_type": "code",
   "execution_count": 10,
   "metadata": {},
   "outputs": [
    {
     "name": "stdout",
     "output_type": "stream",
     "text": [
      "Số lượng giá trị thiếu sau khi chuẩn hóa các lỗi như #@$%\n",
      "               Cột  Số lượng thiếu (sau chuẩn hóa)\n",
      "10    fulfilled-by                           12772\n",
      "9    promotion-ids                           11125\n",
      "3         currency                            9328\n",
      "4           Amount                            9315\n",
      "2   Courier Status                            9306\n",
      "6       ship-state                            9090\n",
      "8     ship-country                            9005\n",
      "1         Category                            8970\n",
      "5        ship-city                            8945\n",
      "0              SKU                            8880\n"
     ]
    }
   ],
   "source": [
    "# Đếm số lượng giá trị thiếu sau chuẩn hóa\n",
    "nan_summary = df_cleaned.isnull().sum()\n",
    "nan_summary = nan_summary[nan_summary > 0].reset_index()\n",
    "nan_summary.columns = ['Cột', 'Số lượng thiếu (sau chuẩn hóa)']\n",
    "\n",
    "# Lọc ra các cột có nhiều lỗi nhất (VD: > 5000)\n",
    "nan_summary = nan_summary[nan_summary['Số lượng thiếu (sau chuẩn hóa)'] > 5000]\n",
    "\n",
    "# Sắp xếp giảm dần\n",
    "nan_summary = nan_summary.sort_values(by='Số lượng thiếu (sau chuẩn hóa)', ascending=False)\n",
    "\n",
    "# Hiển thị kết quả\n",
    "print(\"Số lượng giá trị thiếu sau khi chuẩn hóa các lỗi như #@$%\")\n",
    "print(nan_summary)\n"
   ]
  },
  {
   "cell_type": "markdown",
   "metadata": {},
   "source": [
    "NHẬN XÉT 1\n",
    "\n",
    "- Một số cột có hơn 50% dữ liệu bị thiếu, nên trong bước tiếp theo chúng ta cần quyết định:\n",
    "\n",
    "Có nên loại bỏ các dòng này?\n",
    "\n",
    "Hay sẽ giữ lại và điền dữ liệu thay thế nếu hợp lý?\n",
    "\n",
    "-Chú ý code sẽ không chạy được nếu file đang được mở"
   ]
  },
  {
   "cell_type": "code",
   "execution_count": 20,
   "metadata": {},
   "outputs": [
    {
     "name": "stderr",
     "output_type": "stream",
     "text": [
      "C:\\Users\\Admin\\AppData\\Local\\Temp\\ipykernel_5044\\2969905630.py:2: FutureWarning: A value is trying to be set on a copy of a DataFrame or Series through chained assignment using an inplace method.\n",
      "The behavior will change in pandas 3.0. This inplace method will never work because the intermediate object on which we are setting values always behaves as a copy.\n",
      "\n",
      "For example, when doing 'df[col].method(value, inplace=True)', try using 'df.method({col: value}, inplace=True)' or df[col] = df[col].method(value) instead, to perform the operation inplace on the original object.\n",
      "\n",
      "\n",
      "  df_cleaned['Category'].fillna('Misc', inplace=True)\n",
      "C:\\Users\\Admin\\AppData\\Local\\Temp\\ipykernel_5044\\2969905630.py:3: FutureWarning: A value is trying to be set on a copy of a DataFrame or Series through chained assignment using an inplace method.\n",
      "The behavior will change in pandas 3.0. This inplace method will never work because the intermediate object on which we are setting values always behaves as a copy.\n",
      "\n",
      "For example, when doing 'df[col].method(value, inplace=True)', try using 'df.method({col: value}, inplace=True)' or df[col] = df[col].method(value) instead, to perform the operation inplace on the original object.\n",
      "\n",
      "\n",
      "  df_cleaned['Courier Status'].fillna('Unknown', inplace=True)\n",
      "C:\\Users\\Admin\\AppData\\Local\\Temp\\ipykernel_5044\\2969905630.py:4: FutureWarning: A value is trying to be set on a copy of a DataFrame or Series through chained assignment using an inplace method.\n",
      "The behavior will change in pandas 3.0. This inplace method will never work because the intermediate object on which we are setting values always behaves as a copy.\n",
      "\n",
      "For example, when doing 'df[col].method(value, inplace=True)', try using 'df.method({col: value}, inplace=True)' or df[col] = df[col].method(value) instead, to perform the operation inplace on the original object.\n",
      "\n",
      "\n",
      "  df_cleaned['ship-city'].fillna('Unknown', inplace=True)\n",
      "C:\\Users\\Admin\\AppData\\Local\\Temp\\ipykernel_5044\\2969905630.py:5: FutureWarning: A value is trying to be set on a copy of a DataFrame or Series through chained assignment using an inplace method.\n",
      "The behavior will change in pandas 3.0. This inplace method will never work because the intermediate object on which we are setting values always behaves as a copy.\n",
      "\n",
      "For example, when doing 'df[col].method(value, inplace=True)', try using 'df.method({col: value}, inplace=True)' or df[col] = df[col].method(value) instead, to perform the operation inplace on the original object.\n",
      "\n",
      "\n",
      "  df_cleaned['ship-country'].fillna('Unknown', inplace=True)\n",
      "C:\\Users\\Admin\\AppData\\Local\\Temp\\ipykernel_5044\\2969905630.py:6: FutureWarning: A value is trying to be set on a copy of a DataFrame or Series through chained assignment using an inplace method.\n",
      "The behavior will change in pandas 3.0. This inplace method will never work because the intermediate object on which we are setting values always behaves as a copy.\n",
      "\n",
      "For example, when doing 'df[col].method(value, inplace=True)', try using 'df.method({col: value}, inplace=True)' or df[col] = df[col].method(value) instead, to perform the operation inplace on the original object.\n",
      "\n",
      "\n",
      "  df_cleaned['ship-state'].fillna('Unknown', inplace=True)\n",
      "C:\\Users\\Admin\\AppData\\Local\\Temp\\ipykernel_5044\\2969905630.py:7: FutureWarning: A value is trying to be set on a copy of a DataFrame or Series through chained assignment using an inplace method.\n",
      "The behavior will change in pandas 3.0. This inplace method will never work because the intermediate object on which we are setting values always behaves as a copy.\n",
      "\n",
      "For example, when doing 'df[col].method(value, inplace=True)', try using 'df.method({col: value}, inplace=True)' or df[col] = df[col].method(value) instead, to perform the operation inplace on the original object.\n",
      "\n",
      "\n",
      "  df_cleaned['SKU'].fillna('Unknown', inplace=True)\n",
      "C:\\Users\\Admin\\AppData\\Local\\Temp\\ipykernel_5044\\2969905630.py:8: FutureWarning: A value is trying to be set on a copy of a DataFrame or Series through chained assignment using an inplace method.\n",
      "The behavior will change in pandas 3.0. This inplace method will never work because the intermediate object on which we are setting values always behaves as a copy.\n",
      "\n",
      "For example, when doing 'df[col].method(value, inplace=True)', try using 'df.method({col: value}, inplace=True)' or df[col] = df[col].method(value) instead, to perform the operation inplace on the original object.\n",
      "\n",
      "\n",
      "  df_cleaned['currency'].fillna('INR', inplace=True)\n",
      "C:\\Users\\Admin\\AppData\\Local\\Temp\\ipykernel_5044\\2969905630.py:9: FutureWarning: A value is trying to be set on a copy of a DataFrame or Series through chained assignment using an inplace method.\n",
      "The behavior will change in pandas 3.0. This inplace method will never work because the intermediate object on which we are setting values always behaves as a copy.\n",
      "\n",
      "For example, when doing 'df[col].method(value, inplace=True)', try using 'df.method({col: value}, inplace=True)' or df[col] = df[col].method(value) instead, to perform the operation inplace on the original object.\n",
      "\n",
      "\n",
      "  df_cleaned['fulfilled-by'].fillna('Merchant', inplace=True)\n",
      "C:\\Users\\Admin\\AppData\\Local\\Temp\\ipykernel_5044\\2969905630.py:13: FutureWarning: A value is trying to be set on a copy of a DataFrame or Series through chained assignment using an inplace method.\n",
      "The behavior will change in pandas 3.0. This inplace method will never work because the intermediate object on which we are setting values always behaves as a copy.\n",
      "\n",
      "For example, when doing 'df[col].method(value, inplace=True)', try using 'df.method({col: value}, inplace=True)' or df[col] = df[col].method(value) instead, to perform the operation inplace on the original object.\n",
      "\n",
      "\n",
      "  df_cleaned['Amount'].fillna(df_cleaned['Amount'].median(), inplace=True)\n"
     ]
    }
   ],
   "source": [
    "# Gán giá trị mặc định cho cột phụ\n",
    "df_cleaned['Category'].fillna('Misc', inplace=True)\n",
    "df_cleaned['Courier Status'].fillna('Unknown', inplace=True)\n",
    "df_cleaned['ship-city'].fillna('Unknown', inplace=True)\n",
    "df_cleaned['ship-country'].fillna('Unknown', inplace=True)\n",
    "df_cleaned['ship-state'].fillna('Unknown', inplace=True)\n",
    "df_cleaned['SKU'].fillna('Unknown', inplace=True)\n",
    "df_cleaned['currency'].fillna('INR', inplace=True)\n",
    "df_cleaned['fulfilled-by'].fillna('Merchant', inplace=True)\n",
    "\n",
    "\n",
    "# Với Amount là số → dùng median để fill\n",
    "df_cleaned['Amount'].fillna(df_cleaned['Amount'].median(), inplace=True)\n",
    "\n",
    "# Bỏ những cột không cần thiết nếu bạn không phân tích\n",
    "df_cleaned.drop(columns=['promotion-ids', 'ship-postal-code'], inplace=True,errors='ignore')\n",
    "\n",
    "df_cleaned.to_csv(r'C:\\Users\\Admin\\Desktop\\E_commerce_proj\\data\\datainput\\Amazon_Sale_Report_Enhanced_cleaned.csv', index=False, encoding='utf-8-sig')"
   ]
  },
  {
   "cell_type": "markdown",
   "metadata": {},
   "source": [
    "- Sau khi kiểm tra còn các cột chưa được làm sạch như: SKU, Category... thay thế bằng unknow\n",
    "- Các hàng nào lỗi quá nhiều được xóa bỏ\n",
    "\n"
   ]
  },
  {
   "cell_type": "code",
   "execution_count": null,
   "metadata": {},
   "outputs": [],
   "source": []
  }
 ],
 "metadata": {
  "kernelspec": {
   "display_name": "Python 3",
   "language": "python",
   "name": "python3"
  },
  "language_info": {
   "codemirror_mode": {
    "name": "ipython",
    "version": 3
   },
   "file_extension": ".py",
   "mimetype": "text/x-python",
   "name": "python",
   "nbconvert_exporter": "python",
   "pygments_lexer": "ipython3",
   "version": "3.10.10"
  }
 },
 "nbformat": 4,
 "nbformat_minor": 2
}
