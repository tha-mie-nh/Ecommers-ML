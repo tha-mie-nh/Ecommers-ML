{
 "cells": [
  {
   "cell_type": "code",
   "execution_count": 5,
   "metadata": {},
   "outputs": [],
   "source": [
    "import pandas as pd\n",
    "import numpy as np\n",
    "import matplotlib.pyplot as plt\n",
    "import seaborn as sns\n",
    "import random\n",
    "import duckdb\n",
    "import streamlit as st\n",
    "from datetime import datetime, timedelta\n"
   ]
  },
  {
   "cell_type": "code",
   "execution_count": 6,
   "metadata": {},
   "outputs": [],
   "source": [
    "def introduce_typo(value):\n",
    "    \"\"\"Thêm lỗi chính tả ngẫu nhiên vào một chuỗi với ký tự đặc biệt hoặc số.\"\"\"\n",
    "    if isinstance(value, str) and len(value) > 3 and np.random.rand() < 0.3:  # 30% lỗi chính tả\n",
    "        pos = np.random.randint(0, len(value))\n",
    "        typo_char = np.random.choice(list('!@#&$^(*0123456789'))  # Chọn ký tự đặc biệt hoặc số\n",
    "        return value[:pos] + typo_char + value[pos+1:]\n",
    "    return value"
   ]
  },
  {
   "cell_type": "code",
   "execution_count": 7,
   "metadata": {},
   "outputs": [],
   "source": [
    "def randomize_date(index):\n",
    "    \"\"\"Tạo ngày ngẫu nhiên trong khoảng 2 năm từ ngày hiện tại để tăng độ đa dạng.\"\"\"\n",
    "    base_date = datetime(2022, 1, 1)\n",
    "    random_days = random.randint(-365, 365)  # Ngày lệch ngẫu nhiên rộng hơn\n",
    "    new_date = base_date + timedelta(days=index + random_days)\n",
    "    return new_date.strftime(\"%Y-%m-%d\")"
   ]
  },
  {
   "cell_type": "code",
   "execution_count": 8,
   "metadata": {},
   "outputs": [],
   "source": [
    "def raw_data(input_csv, output_csv):\n",
    "    # Đọc dữ liệu\n",
    "    df = pd.read_csv(input_csv)\n",
    "    \n",
    "    # Kiểm tra cột hợp lệ trước khi raw hóa\n",
    "    print(\"Available columns before modification:\", df.columns)\n",
    "    \n",
    "    # Danh sách cột có thể bị ẩn một phần\n",
    "    potential_hide_columns = [col for col in [\"Date\", \"event\", \"fit Man\", \"Client\", \"City\"] if col in df.columns]\n",
    "    \n",
    "    # Chọn ngẫu nhiên 40% số vị trí trong cột để thay bằng \"####\"\n",
    "    if potential_hide_columns:\n",
    "        for col in potential_hide_columns:\n",
    "            mask = np.random.rand(len(df)) < 0.4  # 40% giá trị trong cột bị thay thế\n",
    "            df.loc[mask, col] = \"####\"\n",
    "    \n",
    "    # Ngẫu nhiên hóa ngày trong cột \"Date\"\n",
    "    if \"Date\" in df.columns:\n",
    "        df[\"Date\"] = [randomize_date(i) for i in range(len(df))]\n",
    "    \n",
    "    # Fake Status và cập nhật Courier Status\n",
    "    status_choices = [\"Pending\", \"Processing\", \"Awaiting Shipment\", \"Shipped\", \"Out for Delivery\", \"Delivered\", \"Cancelled\", \"Returned to Seller\", \"Rejected by Buyer\", \"Lost in Transit\", \"Damaged in Transit\"]\n",
    "    probabilities = [0.12, 0.1, 0.08, 0.28, 0.1, 0.14, 0.06, 0.05, 0.03, 0.02, 0.02]  # Xác suất xảy ra\n",
    "    df[\"Status\"] = np.random.choice(status_choices, size=len(df), p=probabilities)\n",
    "    \n",
    "    # Mapping giữa Status và Courier Status\n",
    "    status_to_courier = {\n",
    "        \"Pending\": \"Not Shipped\",\n",
    "        \"Processing\": \"Not Shipped\",\n",
    "        \"Awaiting Shipment\": \"Not Shipped\",\n",
    "        \"Shipped\": \"In Transit\",\n",
    "        \"Out for Delivery\": \"Out for Delivery\",\n",
    "        \"Delivered\": \"Delivered\",\n",
    "        \"Cancelled\": \"N/A\",\n",
    "        \"Returned to Seller\": \"Returned\",\n",
    "        \"Rejected by Buyer\": \"Returned\",\n",
    "        \"Lost in Transit\": \"Lost\",\n",
    "        \"Damaged in Transit\": \"Damaged\"\n",
    "    }\n",
    "    df[\"Courier Status\"] = df[\"Status\"].map(status_to_courier)\n",
    "    \n",
    "    # Thêm lỗi chính tả vào cột \"Contact\", \"Department\" với xác suất cao hơn\n",
    "    for col in [\"Contact\", \"Department\"]:\n",
    "        if col in df.columns:\n",
    "            df[col] = df[col].apply(introduce_typo)\n",
    "    \n",
    "    # Xóa ngẫu nhiên 20% dữ liệu trong cột Payment, Profit để tăng độ khó\n",
    "    for col in [\"Payment\", \"Profit\"]:\n",
    "        if col in df.columns:\n",
    "            mask = np.random.rand(len(df)) < 0.2  # 20% dữ liệu bị thiếu\n",
    "            df.loc[mask, col] = np.nan\n",
    "    \n",
    "    # Biến đổi số lượng sản phẩm (Qty) một cách mạnh hơn\n",
    "    if \"Qty\" in df.columns:\n",
    "        df[\"Qty\"] = df[\"Qty\"].apply(lambda x: x + np.random.randint(0, 6) if np.random.rand() < 0.5 else x)\n",
    "    \n",
    "    # Kiểm tra lại số cột trước khi lưu\n",
    "    print(\"Columns before saving:\", df.columns)\n",
    "    \n",
    "    # Lưu lại file CSV đã raw hóa\n",
    "    df.to_csv(output_csv, index=False)\n",
    "    print(f\"Dữ liệu đã raw hóa được lưu tại: {output_csv}\")\n"
   ]
  },
  {
   "cell_type": "code",
   "execution_count": 9,
   "metadata": {},
   "outputs": [
    {
     "name": "stdout",
     "output_type": "stream",
     "text": [
      "Available columns before modification: Index(['index', 'Order ID', 'Date', 'Status', 'Fulfilment', 'Sales Channel ',\n",
      "       'ship-service-level', 'Style', 'SKU', 'Category', 'Size', 'ASIN',\n",
      "       'Courier Status', 'Qty', 'currency', 'Amount', 'ship-city',\n",
      "       'ship-state', 'ship-postal-code', 'ship-country', 'promotion-ids',\n",
      "       'B2B', 'fulfilled-by'],\n",
      "      dtype='object')\n",
      "Columns before saving: Index(['index', 'Order ID', 'Date', 'Status', 'Fulfilment', 'Sales Channel ',\n",
      "       'ship-service-level', 'Style', 'SKU', 'Category', 'Size', 'ASIN',\n",
      "       'Courier Status', 'Qty', 'currency', 'Amount', 'ship-city',\n",
      "       'ship-state', 'ship-postal-code', 'ship-country', 'promotion-ids',\n",
      "       'B2B', 'fulfilled-by'],\n",
      "      dtype='object')\n",
      "Dữ liệu đã raw hóa được lưu tại: C:\\Users\\Admin\\Desktop\\E_commerce_proj\\data\\raw\\testdata.csv\n"
     ]
    }
   ],
   "source": [
    "raw_data(r\"C:\\Users\\Admin\\Desktop\\E_commerce_proj\\data\\raw\\Amazon_Sale_Report_Raw_origin.csv\", r\"C:\\Users\\Admin\\Desktop\\E_commerce_proj\\data\\raw\\testdata.csv\")"
   ]
  },
  {
   "cell_type": "markdown",
   "metadata": {},
   "source": [
    "FAKE MỚI"
   ]
  },
  {
   "cell_type": "code",
   "execution_count": null,
   "metadata": {},
   "outputs": [],
   "source": []
  },
  {
   "cell_type": "code",
   "execution_count": null,
   "metadata": {},
   "outputs": [],
   "source": []
  },
  {
   "cell_type": "code",
   "execution_count": null,
   "metadata": {},
   "outputs": [],
   "source": []
  },
  {
   "cell_type": "code",
   "execution_count": null,
   "metadata": {},
   "outputs": [],
   "source": []
  },
  {
   "cell_type": "code",
   "execution_count": null,
   "metadata": {},
   "outputs": [],
   "source": []
  }
 ],
 "metadata": {
  "kernelspec": {
   "display_name": "Python 3",
   "language": "python",
   "name": "python3"
  },
  "language_info": {
   "codemirror_mode": {
    "name": "ipython",
    "version": 3
   },
   "file_extension": ".py",
   "mimetype": "text/x-python",
   "name": "python",
   "nbconvert_exporter": "python",
   "pygments_lexer": "ipython3",
   "version": "3.10.10"
  }
 },
 "nbformat": 4,
 "nbformat_minor": 2
}
