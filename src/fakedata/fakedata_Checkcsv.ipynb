{
 "cells": [
  {
   "cell_type": "code",
   "execution_count": 14,
   "metadata": {},
   "outputs": [],
   "source": [
    "import pandas as pd\n",
    "import numpy as np\n",
    "import matplotlib.pyplot as plt\n",
    "import seaborn as sns\n",
    "import random\n",
    "import duckdb\n",
    "import streamlit as st\n",
    "from datetime import datetime, timedelta"
   ]
  },
  {
   "cell_type": "code",
   "execution_count": 15,
   "metadata": {},
   "outputs": [],
   "source": [
    "def introduce_heavy_typo(value):\n",
    "    \"\"\"Thêm 1-3 lỗi ký tự đặc biệt/số vào một chuỗi.\"\"\"\n",
    "    if isinstance(value, str) and len(value) > 3:\n",
    "        typo_times = np.random.randint(1, 4)\n",
    "        value = list(value)\n",
    "        for _ in range(typo_times):\n",
    "            pos = np.random.randint(0, len(value))\n",
    "            value[pos] = np.random.choice(list('!@#&$^(*0123456789'))\n",
    "        return ''.join(value)\n",
    "    return value"
   ]
  },
  {
   "cell_type": "code",
   "execution_count": 16,
   "metadata": {},
   "outputs": [],
   "source": [
    "def randomize_heavy_date():\n",
    "    \"\"\"Tạo ngày ngẫu nhiên từ năm 2018 đến nay.\"\"\"\n",
    "    base_date = datetime(2018, 1, 1)\n",
    "    random_days = random.randint(0, 6 * 365)\n",
    "    return (base_date + timedelta(days=random_days)).strftime(\"%Y-%m-%d\")\n"
   ]
  },
  {
   "cell_type": "code",
   "execution_count": 17,
   "metadata": {},
   "outputs": [],
   "source": [
    "\n",
    "def raw_extreme(input_csv, output_csv):\n",
    "    # Đọc dữ liệu\n",
    "    df = pd.read_csv(input_csv)\n",
    "\n",
    "    # Raw hóa toàn bộ các cột\n",
    "    for col in df.columns:\n",
    "        # 70% giá trị bị che bằng \"####\"\n",
    "        mask_hide = np.random.rand(len(df)) < 0.1\n",
    "        df.loc[mask_hide, col] = \"####\"\n",
    "\n",
    "        # 50% dữ liệu dạng chuỗi bị lỗi chính tả\n",
    "        if df[col].dtype == object:\n",
    "            mask_typo = np.random.rand(len(df)) < 0.1\n",
    "            df.loc[mask_typo, col] = df.loc[mask_typo, col].apply(introduce_heavy_typo)\n",
    "\n",
    "    # Cột Date: random cực mạnh\n",
    "    if \"Date\" in df.columns:\n",
    "        df[\"Date\"] = [randomize_heavy_date() for _ in range(len(df))]\n",
    "\n",
    "    # Ghi file kết quả\n",
    "    df.to_csv(output_csv, index=False)\n",
    "    print(f\"✅ File raw hóa cực mạnh đã được lưu tại: {output_csv}\")"
   ]
  },
  {
   "cell_type": "code",
   "execution_count": null,
   "metadata": {},
   "outputs": [],
   "source": []
  },
  {
   "cell_type": "code",
   "execution_count": 18,
   "metadata": {},
   "outputs": [
    {
     "name": "stderr",
     "output_type": "stream",
     "text": [
      "C:\\Users\\Admin\\AppData\\Local\\Temp\\ipykernel_13248\\368914012.py:9: FutureWarning: Setting an item of incompatible dtype is deprecated and will raise an error in a future version of pandas. Value '####' has dtype incompatible with int64, please explicitly cast to a compatible dtype first.\n",
      "  df.loc[mask_hide, col] = \"####\"\n",
      "C:\\Users\\Admin\\AppData\\Local\\Temp\\ipykernel_13248\\368914012.py:9: FutureWarning: Setting an item of incompatible dtype is deprecated and will raise an error in a future version of pandas. Value '####' has dtype incompatible with int64, please explicitly cast to a compatible dtype first.\n",
      "  df.loc[mask_hide, col] = \"####\"\n",
      "C:\\Users\\Admin\\AppData\\Local\\Temp\\ipykernel_13248\\368914012.py:9: FutureWarning: Setting an item of incompatible dtype is deprecated and will raise an error in a future version of pandas. Value '####' has dtype incompatible with float64, please explicitly cast to a compatible dtype first.\n",
      "  df.loc[mask_hide, col] = \"####\"\n",
      "C:\\Users\\Admin\\AppData\\Local\\Temp\\ipykernel_13248\\368914012.py:9: FutureWarning: Setting an item of incompatible dtype is deprecated and will raise an error in a future version of pandas. Value '####' has dtype incompatible with float64, please explicitly cast to a compatible dtype first.\n",
      "  df.loc[mask_hide, col] = \"####\"\n",
      "C:\\Users\\Admin\\AppData\\Local\\Temp\\ipykernel_13248\\368914012.py:9: FutureWarning: Setting an item of incompatible dtype is deprecated and will raise an error in a future version of pandas. Value '####' has dtype incompatible with bool, please explicitly cast to a compatible dtype first.\n",
      "  df.loc[mask_hide, col] = \"####\"\n"
     ]
    },
    {
     "name": "stdout",
     "output_type": "stream",
     "text": [
      "✅ File raw hóa cực mạnh đã được lưu tại: C:\\Users\\Admin\\Desktop\\E_commerce_proj\\data\\raw\\checkdata.csv\n"
     ]
    }
   ],
   "source": [
    "raw_extreme(r\"C:\\Users\\Admin\\Desktop\\E_commerce_proj\\data\\raw\\Amazon_Sale_Report_Raw_origin.csv\", r\"C:\\Users\\Admin\\Desktop\\E_commerce_proj\\data\\raw\\checkdata.csv\")\n"
   ]
  },
  {
   "cell_type": "code",
   "execution_count": 19,
   "metadata": {},
   "outputs": [
    {
     "name": "stdout",
     "output_type": "stream",
     "text": [
      "✅ File raw hóa đã được lưu tại: Amazon_Sale_Report_Raw_MoreNull.csv\n"
     ]
    }
   ],
   "source": [
    "import pandas as pd\n",
    "import numpy as np\n",
    "\n",
    "def insert_more_nulls(df, null_ratio=0.2):\n",
    "    \"\"\"\n",
    "    Thay thế giá trị hiện tại bằng NaN ở các cột được chọn với tỷ lệ null_ratio\n",
    "    \"\"\"\n",
    "    columns_to_null = [\n",
    "        \"Courier Status\", \"currency\", \"Amount\", \"ship-country\",\n",
    "        \"promotion-ids\", \"fulfilled-by\", \"ship-state\", \"ship-city\",\n",
    "        \"Category\", \"SKU\"\n",
    "    ]\n",
    "\n",
    "    for col in columns_to_null:\n",
    "        if col in df.columns:\n",
    "            mask = np.random.rand(len(df)) < null_ratio  # VD: 60% bị thay bằng NaN\n",
    "            df.loc[mask, col] = np.nan\n",
    "    return df\n",
    "\n",
    "# Đọc dữ liệu\n",
    "df = pd.read_csv(\"Amazon_Sale_Report_Raw_origin.csv\")\n",
    "\n",
    "# Raw hóa: tăng giá trị null\n",
    "df = insert_more_nulls(df, null_ratio=0.6)\n",
    "\n",
    "# Ghi lại file\n",
    "df.to_csv(\"Amazon_Sale_Report_Raw_MoreNull.csv\", index=False)\n",
    "print(\"✅ File raw hóa đã được lưu tại: Amazon_Sale_Report_Raw_MoreNull.csv\")"
   ]
  }
 ],
 "metadata": {
  "kernelspec": {
   "display_name": "Python 3",
   "language": "python",
   "name": "python3"
  },
  "language_info": {
   "codemirror_mode": {
    "name": "ipython",
    "version": 3
   },
   "file_extension": ".py",
   "mimetype": "text/x-python",
   "name": "python",
   "nbconvert_exporter": "python",
   "pygments_lexer": "ipython3",
   "version": "3.10.10"
  }
 },
 "nbformat": 4,
 "nbformat_minor": 2
}
